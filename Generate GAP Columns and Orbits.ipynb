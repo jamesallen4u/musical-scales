{
 "cells": [
  {
   "cell_type": "code",
   "execution_count": 42,
   "metadata": {},
   "outputs": [],
   "source": [
    "#replace n with desired subgroup to generate subgroups for (e.g. n=12 for S_12)\n",
    "n = 5;\n",
    "#replace k with number of notes in scale (e.g. k=7 for 7 note scales)\n",
    "k = 3;"
   ]
  },
  {
   "cell_type": "code",
   "execution_count": 43,
   "metadata": {},
   "outputs": [],
   "source": [
    "#generate subgroups up to conjugacy for the symmetric group\n",
    "A = gap.ConjugacyClassesSubgroups(gap.SymmetricGroup(n));"
   ]
  },
  {
   "cell_type": "code",
   "execution_count": 44,
   "metadata": {},
   "outputs": [],
   "source": [
    "G = [];\n",
    "H = [];\n",
    "J = [];\n",
    "K = [];\n",
    "M = [];\n",
    "#generate the corresponding GAP objects for subgroups generated\n",
    "C = [gap.eval(w) for w in A];\n",
    "#replace \"^G\" string contained in GAP objects to avoid later parsing errors\n",
    "D = [w.replace('^G', '') for w in D]"
   ]
  },
  {
   "cell_type": "code",
   "execution_count": 46,
   "metadata": {},
   "outputs": [],
   "source": [
    "for i in D:\n",
    "    #compute orbit lengths\n",
    "    o = gap.OrbitLengths(i,gap.Combinations([1..n],k),gap.OnSets);\n",
    "    #this gives us the \"signature\" of a group\n",
    "    p = gap.OrbitLengths(i,gap.Combinations([1..n],1),gap.OnSets);\n",
    "    M.append(p);\n",
    "    v = gap.ShallowCopy(o);\n",
    "    H.append(sorted(v, key=int, reverse=True));\n",
    "    "
   ]
  },
  {
   "cell_type": "code",
   "execution_count": 47,
   "metadata": {},
   "outputs": [],
   "source": [
    "for i in H:\n",
    "    K.append(len(i));\n",
    "    maximum = max(i);\n",
    "    frequency = i.count(maximum);\n",
    "    J.append((frequency, maximum));\n",
    "\n",
    "#uncomment these sections as appropriate to augment the generated spreadsheet with additional data\n",
    "#for i in Z:\n",
    "#    o = gap.Order(i);\n",
    "#    G.append(gap.PrintFactorsInt(o));\n",
    "\n",
    "#F = [gap.Order(i) for i in Z];\n",
    "\n",
    "#E = [gap.StructureDescription(i) for i in Z];\n",
    "\n",
    "import csv\n",
    "import sys\n",
    "\n",
    "f = open('S{0}_T{1}.csv'.format(n,k), 'wb')\n",
    "try:\n",
    "    writer = csv.writer(f)\n",
    "    #writer.writerow( ('StructureDescription','Order','Prime Factorization','Generator','Orbits','Maximal Orbits','# of orbits') )\n",
    "    #writer.writerow( ('Signature','Generator','Orbits','Maximal Orbits','# of orbits') )\n",
    "    writer.writerow( ('Maximal Orbits','# of orbits') )\n",
    "    for i in [0..len(A)-1]:\n",
    "        #writer.writerow( (E[i], F[i], G[i], Z[i], H[i], J[i], K[i]) )\n",
    "        writer.writerow( (J[i], K[i]) )\n",
    "finally:\n",
    "    f.close()"
   ]
  },
  {
   "cell_type": "code",
   "execution_count": 48,
   "metadata": {},
   "outputs": [],
   "source": [
    "#generate orbit lengths and write to text file, serves as the input to Mathematica script\n",
    "I = [str(i) for i in H];\n",
    "I = [w.replace('[', '{') for w in I];\n",
    "I = [w.replace(']', '}') for w in I];\n",
    "\n",
    "with open('S{0}_T{1}_orb.txt'.format(n,k), 'w') as file_handler:\n",
    "    for item in I:\n",
    "        file_handler.write(\"{}\\n\".format(item))"
   ]
  }
 ],
 "metadata": {
  "kernelspec": {
   "display_name": "SageMath 8.9",
   "language": "sage",
   "name": "sagemath"
  },
  "language_info": {
   "codemirror_mode": {
    "name": "ipython",
    "version": 2
   },
   "file_extension": ".py",
   "mimetype": "text/x-python",
   "name": "python",
   "nbconvert_exporter": "python",
   "pygments_lexer": "ipython2",
   "version": "2.7.15"
  }
 },
 "nbformat": 4,
 "nbformat_minor": 2
}
